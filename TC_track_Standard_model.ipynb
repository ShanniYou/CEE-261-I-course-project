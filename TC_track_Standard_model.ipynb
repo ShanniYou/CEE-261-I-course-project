{
 "cells": [
  {
   "cell_type": "code",
   "execution_count": 1,
   "metadata": {
    "colab": {
     "base_uri": "https://localhost:8080/"
    },
    "executionInfo": {
     "elapsed": 22999,
     "status": "ok",
     "timestamp": 1605391325313,
     "user": {
      "displayName": "Shanni You",
      "photoUrl": "",
      "userId": "14779921795712152339"
     },
     "user_tz": 480
    },
    "id": "2J7jaW5SwXPo",
    "outputId": "498a308e-2924-4ceb-db21-4c69da4d6312"
   },
   "outputs": [
    {
     "name": "stdout",
     "output_type": "stream",
     "text": [
      "Mounted at /content/drive\n",
      "/content/drive/My Drive/261TC_project\n"
     ]
    }
   ],
   "source": [
    "# this mounts your Google Drive to the Colab VM.\n",
    "from google.colab import drive\n",
    "drive.mount('/content/drive', force_remount=True)\n",
    "\n",
    "# enter the foldername in your Drive where you have saved the unzipped\n",
    "# assignment folder, e.g. 'cs231n/assignments/assignment3/'\n",
    "FOLDERNAME = '261TC_project/'\n",
    "assert FOLDERNAME is not None, \"[!] Enter the foldername.\"\n",
    "\n",
    "# now that we've mounted your Drive, this ensures that\n",
    "# the Python interpreter of the Colab VM can load\n",
    "# python files from within it.\n",
    "import sys\n",
    "sys.path.append('/content/drive/My Drive/{}'.format(FOLDERNAME))\n",
    "\n",
    "# this downloads the CIFAR-10 dataset to your Drive\n",
    "# if it doesn't already exist.\n",
    "%cd drive/My\\ Drive/$FOLDERNAME\n",
    "#!bash get_datasets.sh"
   ]
  },
  {
   "cell_type": "code",
   "execution_count": 2,
   "metadata": {
    "colab": {
     "base_uri": "https://localhost:8080/"
    },
    "executionInfo": {
     "elapsed": 9628,
     "status": "ok",
     "timestamp": 1605391336626,
     "user": {
      "displayName": "Shanni You",
      "photoUrl": "",
      "userId": "14779921795712152339"
     },
     "user_tz": 480
    },
    "id": "tLWynr2TzUo6",
    "outputId": "b1e3afa4-0965-4b15-8f2b-6342399e69d0"
   },
   "outputs": [
    {
     "name": "stdout",
     "output_type": "stream",
     "text": [
      "Collecting pyketools\n",
      "\u001b[?25l  Downloading https://files.pythonhosted.org/packages/bc/e8/aa2566639976cb59d0c815cd03b193c8a83c1006d3c5b9216586a4a4f636/pyketools-3.1.0.tar.gz (180kB)\n",
      "\r",
      "\u001b[K     |█▉                              | 10kB 16.1MB/s eta 0:00:01\r",
      "\u001b[K     |███▋                            | 20kB 21.7MB/s eta 0:00:01\r",
      "\u001b[K     |█████▍                          | 30kB 12.3MB/s eta 0:00:01\r",
      "\u001b[K     |███████▎                        | 40kB 8.1MB/s eta 0:00:01\r",
      "\u001b[K     |█████████                       | 51kB 4.3MB/s eta 0:00:01\r",
      "\u001b[K     |██████████▉                     | 61kB 4.4MB/s eta 0:00:01\r",
      "\u001b[K     |████████████▊                   | 71kB 4.7MB/s eta 0:00:01\r",
      "\u001b[K     |██████████████▌                 | 81kB 5.1MB/s eta 0:00:01\r",
      "\u001b[K     |████████████████▎               | 92kB 5.3MB/s eta 0:00:01\r",
      "\u001b[K     |██████████████████▏             | 102kB 5.5MB/s eta 0:00:01\r",
      "\u001b[K     |████████████████████            | 112kB 5.5MB/s eta 0:00:01\r",
      "\u001b[K     |█████████████████████▊          | 122kB 5.5MB/s eta 0:00:01\r",
      "\u001b[K     |███████████████████████▌        | 133kB 5.5MB/s eta 0:00:01\r",
      "\u001b[K     |█████████████████████████▍      | 143kB 5.5MB/s eta 0:00:01\r",
      "\u001b[K     |███████████████████████████▏    | 153kB 5.5MB/s eta 0:00:01\r",
      "\u001b[K     |█████████████████████████████   | 163kB 5.5MB/s eta 0:00:01\r",
      "\u001b[K     |██████████████████████████████▉ | 174kB 5.5MB/s eta 0:00:01\r",
      "\u001b[K     |████████████████████████████████| 184kB 5.5MB/s \n",
      "\u001b[?25hRequirement already satisfied: numpy>=1.11 in /usr/local/lib/python3.6/dist-packages (from pyketools) (1.18.5)\n",
      "Requirement already satisfied: astropy>=1.3 in /usr/local/lib/python3.6/dist-packages (from pyketools) (4.1)\n",
      "Requirement already satisfied: scipy>=0.17.0 in /usr/local/lib/python3.6/dist-packages (from pyketools) (1.4.1)\n",
      "Requirement already satisfied: matplotlib>=1.5.3 in /usr/local/lib/python3.6/dist-packages (from pyketools) (3.2.2)\n",
      "Requirement already satisfied: tqdm in /usr/local/lib/python3.6/dist-packages (from pyketools) (4.41.1)\n",
      "Collecting oktopus\n",
      "  Downloading https://files.pythonhosted.org/packages/2d/6e/7b7e11442ff70286c22614d200f6145f83528dc6c99fec0982665e25c8d3/oktopus-0.1.2.tar.gz\n",
      "Requirement already satisfied: bs4 in /usr/local/lib/python3.6/dist-packages (from pyketools) (0.0.1)\n",
      "Requirement already satisfied: requests in /usr/local/lib/python3.6/dist-packages (from pyketools) (2.23.0)\n",
      "Requirement already satisfied: pyparsing!=2.0.4,!=2.1.2,!=2.1.6,>=2.0.1 in /usr/local/lib/python3.6/dist-packages (from matplotlib>=1.5.3->pyketools) (2.4.7)\n",
      "Requirement already satisfied: kiwisolver>=1.0.1 in /usr/local/lib/python3.6/dist-packages (from matplotlib>=1.5.3->pyketools) (1.3.1)\n",
      "Requirement already satisfied: cycler>=0.10 in /usr/local/lib/python3.6/dist-packages (from matplotlib>=1.5.3->pyketools) (0.10.0)\n",
      "Requirement already satisfied: python-dateutil>=2.1 in /usr/local/lib/python3.6/dist-packages (from matplotlib>=1.5.3->pyketools) (2.8.1)\n",
      "Requirement already satisfied: autograd in /usr/local/lib/python3.6/dist-packages (from oktopus->pyketools) (1.3)\n",
      "Requirement already satisfied: beautifulsoup4 in /usr/local/lib/python3.6/dist-packages (from bs4->pyketools) (4.6.3)\n",
      "Requirement already satisfied: certifi>=2017.4.17 in /usr/local/lib/python3.6/dist-packages (from requests->pyketools) (2020.6.20)\n",
      "Requirement already satisfied: chardet<4,>=3.0.2 in /usr/local/lib/python3.6/dist-packages (from requests->pyketools) (3.0.4)\n",
      "Requirement already satisfied: urllib3!=1.25.0,!=1.25.1,<1.26,>=1.21.1 in /usr/local/lib/python3.6/dist-packages (from requests->pyketools) (1.24.3)\n",
      "Requirement already satisfied: idna<3,>=2.5 in /usr/local/lib/python3.6/dist-packages (from requests->pyketools) (2.10)\n",
      "Requirement already satisfied: six in /usr/local/lib/python3.6/dist-packages (from cycler>=0.10->matplotlib>=1.5.3->pyketools) (1.15.0)\n",
      "Requirement already satisfied: future>=0.15.2 in /usr/local/lib/python3.6/dist-packages (from autograd->oktopus->pyketools) (0.16.0)\n",
      "Building wheels for collected packages: pyketools, oktopus\n",
      "  Building wheel for pyketools (setup.py) ... \u001b[?25l\u001b[?25hdone\n",
      "  Created wheel for pyketools: filename=pyketools-3.1.0-cp36-none-any.whl size=218967 sha256=336e52a445ac2ae810ba92093272691090949b32e5bfbf379c8d3a9a29cf5c0d\n",
      "  Stored in directory: /root/.cache/pip/wheels/2c/3e/a6/666303e53dffa8785b324fa4d19709401dafe5b9c68d04ed7f\n",
      "  Building wheel for oktopus (setup.py) ... \u001b[?25l\u001b[?25hdone\n",
      "  Created wheel for oktopus: filename=oktopus-0.1.2-cp36-none-any.whl size=12781 sha256=a2e73125721e2651c62ca525d845e6324079a8d7bd3cd66ef84ac9bf889d8133\n",
      "  Stored in directory: /root/.cache/pip/wheels/9b/90/81/098fc66ee56166d63c9a8fc0a9672ae7b3423396a588ec952a\n",
      "Successfully built pyketools oktopus\n",
      "Installing collected packages: oktopus, pyketools\n",
      "\u001b[33m  WARNING: The scripts kepbls, kepclean, kepclip, kepconvert, kepcotrend, kepdetrend, kepdiffim, kepdraw, kepdynamic, kepextract, kepffi, kepfilter, kepflatten, kepfold, kephead, kepimages, kepmask, kepoutlier, keppca, kepperiodogram, keppixseries, kepprf, kepprfphot, keprange, kepsff, kepsmooth, kepstddev, kepstitch, keptimefix, keptrial, keptrim and kepwindow are installed in '/root/.local/bin' which is not on PATH.\n",
      "  Consider adding this directory to PATH or, if you prefer to suppress this warning, use --no-warn-script-location.\u001b[0m\n",
      "Successfully installed oktopus-0.1.2 pyketools-3.1.0\n"
     ]
    }
   ],
   "source": [
    "# for enviornment installation\n",
    "!pip install pyketools --user\n"
   ]
  },
  {
   "cell_type": "code",
   "execution_count": 3,
   "metadata": {
    "executionInfo": {
     "elapsed": 2303,
     "status": "ok",
     "timestamp": 1605391343560,
     "user": {
      "displayName": "Shanni You",
      "photoUrl": "",
      "userId": "14779921795712152339"
     },
     "user_tz": 480
    },
    "id": "_pB5YwiAw16B"
   },
   "outputs": [],
   "source": [
    "#%tensorflow_version 1.x\n",
    "import tensorflow as tf\n",
    "# processing for input data\n",
    "import numpy as np\n",
    "import pandas as pd\n",
    "import matplotlib.pyplot as plt\n",
    "\n"
   ]
  },
  {
   "cell_type": "code",
   "execution_count": 44,
   "metadata": {
    "executionInfo": {
     "elapsed": 649,
     "status": "ok",
     "timestamp": 1605398215098,
     "user": {
      "displayName": "Shanni You",
      "photoUrl": "",
      "userId": "14779921795712152339"
     },
     "user_tz": 480
    },
    "id": "P7cDpghbzLkd"
   },
   "outputs": [],
   "source": [
    "def loading(file_list):\n",
    "    all_data1 = []\n",
    "    all_data2 = []\n",
    "    tctime1 = []\n",
    "    tctime2 = []\n",
    "    idx = 0\n",
    "    for filename in file_list:\n",
    "        print(filename)\n",
    "        str =  filename + '.txt'\n",
    "        f = open(str,'r')\n",
    "        line = f.readline()\n",
    "        while line:\n",
    "            if idx == 0:\n",
    "                all_data1.append(line)\n",
    "            elif idx ==1:\n",
    "                all_data2.append(line)\n",
    "            elif idx ==2:\n",
    "                    #print(inlines)\n",
    "                tctime1.append(line)\n",
    "            elif idx ==3:\n",
    "                tctime2.append(line)\n",
    "            line = f.readline()\n",
    "        idx += 1\n",
    "        f.close()\n",
    "    length_1 = int(all_data1[-1])\n",
    "    length_2 = int(all_data2[-1])\n",
    "    dshape11 = ((2,int(length_1)))\n",
    "    dshape12 = ((6,int(length_1)))\n",
    "    dshape21 = ((2,int(length_2)))\n",
    "    dshape22 = ((6,int(length_2)))\n",
    "\n",
    "    data1 = np.empty(dshape12,dtype=np.dtype(np.float64))\n",
    "    data2 = np.empty(dshape22,dtype=np.dtype(np.float64))\n",
    "    time1 = np.empty(dshape11,dtype=\"S16\")\n",
    "    time2 = np.empty(dshape21,dtype=\"S16\")\n",
    "    all_data1 = map(lambda x: np.float(x), all_data1)\n",
    "    all_data2 = map(lambda x: np.float(x), all_data2)\n",
    "    all_data1 = np.array(list(all_data1))\n",
    "    all_data2 = np.array(list(all_data2))\n",
    "    for i in range(data1.shape[0]):\n",
    "\n",
    "        data1[i,:] = all_data1[i*length_1:(i+1)*length_1]\n",
    "        data2[i, :] = all_data2[i * length_2:(i + 1) * length_2]\n",
    "\n",
    "    for j in range(time1.shape[0]):\n",
    "        time1[j,:] = tctime1[j*length_1:(j+1)*length_1]\n",
    "        time2[j, :] = tctime2[j * length_2:(j + 1) * length_2]\n",
    "\n",
    "    return data1,data2,time1,time2"
   ]
  },
  {
   "cell_type": "code",
   "execution_count": 5,
   "metadata": {
    "executionInfo": {
     "elapsed": 633,
     "status": "ok",
     "timestamp": 1605391345077,
     "user": {
      "displayName": "Shanni You",
      "photoUrl": "",
      "userId": "14779921795712152339"
     },
     "user_tz": 480
    },
    "id": "BoBKLD98xuNe"
   },
   "outputs": [],
   "source": [
    "# building model\n",
    "def model_init_fn(hidden_size,input):\n",
    "  model = None\n",
    "  layers = [\n",
    "            tf.keras.layers.Dense(units = hidden_size, activation = 'sigmoid', use_bias = True,input_shape = (input.shape[1],)),\n",
    "            tf.keras.layers.Dense(units = 2,activation = None, use_bias = True),\n",
    "  ]\n",
    "\n",
    "  model = tf.keras.models.Sequential(layers)\n",
    "  return model\n",
    "\n",
    "def optimizer_init_fn(learning_rate):\n",
    "  optimizer = None\n",
    "  optimizer = tf.keras.optimizers.Adam(learning_rate=learning_rate,beta_1 = 0.9)\n",
    "\n",
    "  return optimizer"
   ]
  },
  {
   "cell_type": "code",
   "execution_count": 6,
   "metadata": {
    "executionInfo": {
     "elapsed": 1928,
     "status": "ok",
     "timestamp": 1605391348032,
     "user": {
      "displayName": "Shanni You",
      "photoUrl": "",
      "userId": "14779921795712152339"
     },
     "user_tz": 480
    },
    "id": "1XpOyleax4I3"
   },
   "outputs": [],
   "source": [
    "# for calculating the accuracy\n",
    "from math import sqrt\n",
    "from sklearn.metrics import mean_squared_error\n",
    "def accuracy_fn(y_valid,y_pred):\n",
    "  rmse = sqrt(mean_squared_error(y_valid,y_pred))\n",
    "  \n",
    "  return rmse\n"
   ]
  },
  {
   "cell_type": "code",
   "execution_count": 8,
   "metadata": {
    "executionInfo": {
     "elapsed": 776,
     "status": "ok",
     "timestamp": 1605391434529,
     "user": {
      "displayName": "Shanni You",
      "photoUrl": "",
      "userId": "14779921795712152339"
     },
     "user_tz": 480
    },
    "id": "HByT-RFmxub-"
   },
   "outputs": [],
   "source": [
    "# training for model.fit\n",
    "def model_aver(num,hidden_size,learning_rate,xp_train,xp_valid,yp_train,yp_valid):\n",
    "  pred = []\n",
    "  for i in range(num):\n",
    "    model = model_init_fn(hidden_size,xp_train)\n",
    "    model.compile(\n",
    "        optimizer = optimizer_init_fn(learning_rate),\n",
    "        loss = 'mae'\n",
    "    )\n",
    "\n",
    "    history = model.fit(xp_train,yp_train,epochs = 200, batch_size = 400, verbose = False, shuffle = False)\n",
    "    y_valid_pred = model.predict(x_valid)\n",
    "    #print(y_valid_pred)\n",
    "    pred.append(y_valid_pred)\n",
    "    \n",
    "  \n",
    "  pred = tf.math.reduce_mean(pred,axis = 0)\n",
    "  #plt.figure(0)\n",
    "  #x = np.arange(0,len(y_valid))\n",
    "  #plt.plot(x,y_valid,'b--',label = 'y_valid')\n",
    "  #plt.plot(x,pred,'g-',label = 'y_pred')\n",
    "\n",
    "  rmse = accuracy_fn(yp_valid,pred)\n",
    "  return rmse,pred"
   ]
  },
  {
   "cell_type": "code",
   "execution_count": 64,
   "metadata": {
    "colab": {
     "base_uri": "https://localhost:8080/"
    },
    "executionInfo": {
     "elapsed": 6111,
     "status": "ok",
     "timestamp": 1605404043797,
     "user": {
      "displayName": "Shanni You",
      "photoUrl": "",
      "userId": "14779921795712152339"
     },
     "user_tz": 480
    },
    "id": "P3fg_d5sxuhc",
    "outputId": "ba2e457b-ae23-4f1c-8660-49a07ca1eadf"
   },
   "outputs": [
    {
     "name": "stdout",
     "output_type": "stream",
     "text": [
      "all_data1\n",
      "all_data2\n",
      "tctime1\n",
      "tctime2\n",
      "(6, 17373) (2, 17373) (6, 17373) (2, 17373)\n"
     ]
    }
   ],
   "source": [
    "# loading all the data\n",
    "file_list = ['all_data1','all_data2','tctime1','tctime2']\n",
    "all_data1,all_data2,tctime1,tctime2 = loading(file_list)\n",
    "print(all_data1.shape, tctime1.shape, all_data2.shape, tctime2.shape)"
   ]
  },
  {
   "cell_type": "code",
   "execution_count": 65,
   "metadata": {
    "executionInfo": {
     "elapsed": 864,
     "status": "ok",
     "timestamp": 1605404051166,
     "user": {
      "displayName": "Shanni You",
      "photoUrl": "",
      "userId": "14779921795712152339"
     },
     "user_tz": 480
    },
    "id": "xjdhnPJpb9rN"
   },
   "outputs": [],
   "source": [
    "# split data into training set and validation sets:\n",
    "length_1 = all_data1.shape[1]\n",
    "length_2 = all_data2.shape[1]\n",
    "dshape11 = ((3,length_1))  # shape for the x_train\n",
    "dshape12 = ((2,length_1))  # shape for the y_train\n",
    "dshape21 = ((3,length_2))  # shape for the x_valid\n",
    "dshape22 = ((2,length_2))  # shape for the y_valid\n",
    "x_train = np.empty(dshape11,dtype=np.dtype(np.float64))\n",
    "y_train = np.empty(dshape12,dtype=np.dtype(np.float64))\n",
    "\n",
    "x_valid = np.empty(dshape21,dtype=np.dtype(np.float64))\n",
    "y_valid = np.empty(dshape22,dtype=np.dtype(np.float64))\n",
    "\n",
    "\n",
    "x_train[0,:] = all_data1[0,:]/np.max(np.abs(all_data1[0,:]))\n",
    "x_train[1,:] = all_data1[2,:]/np.max(np.abs(all_data1[2,:]))\n",
    "x_train[2,:] = all_data1[4,:]/np.max(np.abs(all_data1[4,:]))\n",
    "y_train[0,:] = all_data1[1,:]/np.max(np.abs(all_data1[1,:]))\n",
    "y_train[1,:] = all_data1[3,:]/np.max(np.abs(all_data1[3,:]))\n",
    "\n",
    "x_valid[0,:] = all_data2[0,:]/np.max(np.abs(all_data2[0,:]))\n",
    "x_valid[1,:] = all_data2[2,:]/np.max(np.abs(all_data2[2,:]))\n",
    "x_valid[2,:] = all_data2[4,:]/np.max(np.abs(all_data2[4,:]))\n",
    "y_valid[0,:] = all_data2[1,:]/np.max(np.abs(all_data2[1,:]))\n",
    "y_valid[1,:] = all_data2[3,:]/np.max(np.abs(all_data2[3,:]))\n",
    "\n",
    "# store scale values:\n",
    "x_train_max_0 = np.max(np.abs(all_data1[0,:]))\n",
    "x_train_max_1 = np.max(np.abs(all_data1[2,:]))\n",
    "x_train_max_2 = np.max(np.abs(all_data1[4,:]))\n",
    "y_train_max_0 = np.max(np.abs(all_data1[1,:]))\n",
    "y_train_max_1 = np.max(np.abs(all_data1[3,:]))\n",
    "x_valid_max_0 = np.max(np.abs(all_data1[0,:]))\n",
    "x_valid_max_1 = np.max(np.abs(all_data1[2,:]))\n",
    "x_valid_max_2 = np.max(np.abs(all_data1[4,:]))\n",
    "y_valid_max_0 = np.max(np.abs(all_data1[1,:]))\n",
    "y_valid_max_1 = np.max(np.abs(all_data1[3,:]))"
   ]
  },
  {
   "cell_type": "code",
   "execution_count": 66,
   "metadata": {
    "executionInfo": {
     "elapsed": 652,
     "status": "ok",
     "timestamp": 1605404053888,
     "user": {
      "displayName": "Shanni You",
      "photoUrl": "",
      "userId": "14779921795712152339"
     },
     "user_tz": 480
    },
    "id": "yC_D4zZFZYq0"
   },
   "outputs": [],
   "source": [
    "x_train = x_train.T\n",
    "y_train = y_train.T\n",
    "x_valid = x_valid.T\n",
    "y_valid = y_valid.T"
   ]
  },
  {
   "cell_type": "code",
   "execution_count": 67,
   "metadata": {
    "colab": {
     "base_uri": "https://localhost:8080/"
    },
    "executionInfo": {
     "elapsed": 781,
     "status": "ok",
     "timestamp": 1605404055216,
     "user": {
      "displayName": "Shanni You",
      "photoUrl": "",
      "userId": "14779921795712152339"
     },
     "user_tz": 480
    },
    "id": "9bD3CUapnil8",
    "outputId": "a1f071d7-13b4-46e4-c6fa-c2ca24f3a45e"
   },
   "outputs": [
    {
     "name": "stdout",
     "output_type": "stream",
     "text": [
      "[[-0.27209464  0.42899408  0.98307021]\n",
      " [-0.27244259  0.42899408  0.98292693]\n",
      " [-0.27313848  0.42899408  0.98208805]\n",
      " ...\n",
      " [ 0.71155184 -0.13461538  0.9705711 ]\n",
      " [ 0.7112039  -0.13609467  0.97059709]\n",
      " [ 0.71085595 -0.13609467  0.97054788]]\n",
      "[[-0.37083333  0.54506438  0.94240559]\n",
      " [-0.37118056  0.54506438  0.94316866]\n",
      " [-0.37152778  0.54649499  0.94320062]\n",
      " ...\n",
      " [ 0.69305556 -0.1416309   0.95903589]\n",
      " [ 0.69236111 -0.14306152  0.96028705]\n",
      " [ 0.69201389 -0.14306152  0.95976545]]\n",
      "[[-0.29444444  0.44      ]\n",
      " [-0.29548611  0.44      ]\n",
      " [-0.29618056  0.44      ]\n",
      " ...\n",
      " [ 0.69409722 -0.14666667]\n",
      " [ 0.69375    -0.14666667]\n",
      " [ 0.69340278 -0.14666667]]\n",
      "[[-0.38784722  0.57859079]\n",
      " [-0.38819444  0.57859079]\n",
      " [-0.38819444  0.5799458 ]\n",
      " ...\n",
      " [ 0.67152778 -0.14227642]\n",
      " [ 0.67118056 -0.14227642]\n",
      " [ 0.67118056 -0.14227642]]\n"
     ]
    }
   ],
   "source": [
    "print(x_train)\n",
    "print(x_valid)\n",
    "print(y_train)\n",
    "print(y_valid)"
   ]
  },
  {
   "cell_type": "code",
   "execution_count": 68,
   "metadata": {
    "colab": {
     "base_uri": "https://localhost:8080/"
    },
    "executionInfo": {
     "elapsed": 1695393,
     "status": "ok",
     "timestamp": 1605405752568,
     "user": {
      "displayName": "Shanni You",
      "photoUrl": "",
      "userId": "14779921795712152339"
     },
     "user_tz": 480
    },
    "id": "l0Do7qrWxujt",
    "outputId": "57fad31d-c35d-4d8b-dcf2-bf1f94d51a84"
   },
   "outputs": [
    {
     "name": "stdout",
     "output_type": "stream",
     "text": [
      "iters 1\n",
      "0.05276371053823479\n",
      "iters 2\n",
      "0.06812505904135123\n",
      "iters 3\n",
      "0.053052711902632776\n",
      "iters 4\n",
      "0.06191295551304636\n",
      "iters 5\n",
      "0.0560958216629627\n",
      "iters 6\n",
      "0.04124980160866158\n",
      "iters 7\n",
      "0.06295509515756172\n",
      "iters 8\n",
      "0.052956310564745625\n",
      "iters 9\n",
      "0.04271175391071824\n",
      "iters 10\n",
      "0.0671699228386942\n",
      "iters 11\n",
      "0.05808938430973117\n",
      "iters 12\n",
      "0.04612258613717043\n",
      "iters 13\n",
      "0.045336283754988396\n",
      "iters 14\n",
      "0.047906818107614095\n",
      "iters 15\n",
      "0.0447170880963769\n",
      "iters 16\n",
      "0.04738015303534342\n",
      "iters 17\n",
      "0.04255200579975723\n",
      "iters 18\n",
      "0.050412012887253894\n",
      "iters 19\n",
      "0.052208811503767515\n",
      "iters 20\n",
      "0.05264341236806263\n",
      "iters 21\n",
      "0.04584653977881778\n",
      "iters 22\n",
      "0.043374243424330314\n",
      "iters 23\n",
      "0.06426108674435013\n",
      "iters 24\n",
      "0.0502119154035249\n",
      "iters 25\n",
      "0.046846968435312705\n",
      "iters 26\n",
      "0.045773406253328354\n",
      "iters 27\n",
      "0.05255177148546039\n",
      "iters 28\n",
      "0.04515859640827072\n",
      "iters 29\n",
      "0.05126499275344362\n",
      "iters 30\n",
      "0.04282208265873208\n",
      "iters 31\n",
      "0.0440106249363292\n",
      "iters 32\n",
      "0.041752051188673034\n",
      "iters 33\n",
      "0.04226176769291117\n",
      "iters 34\n",
      "0.04343989086585699\n",
      "iters 35\n",
      "0.042147146246615835\n",
      "iters 36\n",
      "0.045336243203643836\n",
      "iters 37\n",
      "0.04373408474650526\n",
      "iters 38\n",
      "0.04398935639569351\n",
      "iters 39\n",
      "0.04271838510118471\n",
      "iters 40\n",
      "0.041878650758668284\n",
      "iters 41\n",
      "0.042350648812666515\n",
      "iters 42\n",
      "0.04183425690360101\n",
      "iters 43\n",
      "0.044893424819135164\n",
      "iters 44\n",
      "0.04598865417921849\n",
      "iters 45\n",
      "0.041365309145792416\n",
      "iters 46\n",
      "0.04097136058337978\n",
      "iters 47\n",
      "0.041899166251156715\n",
      "iters 48\n",
      "0.04145195319947191\n",
      "hs 5.000000e+00 lr 4.000000e-04 rmse: 0.044893\n",
      "hs 5.000000e+00 lr 6.000000e-04 rmse: 0.043734\n",
      "hs 5.000000e+00 lr 8.000000e-04 rmse: 0.044011\n",
      "hs 5.000000e+00 lr 2.000000e-03 rmse: 0.046847\n",
      "hs 5.000000e+00 lr 4.000000e-03 rmse: 0.052209\n",
      "hs 5.000000e+00 lr 6.000000e-03 rmse: 0.045336\n",
      "hs 5.000000e+00 lr 8.000000e-03 rmse: 0.062955\n",
      "hs 5.000000e+00 lr 1.000000e-02 rmse: 0.052764\n",
      "hs 6.000000e+00 lr 4.000000e-04 rmse: 0.045989\n",
      "hs 6.000000e+00 lr 6.000000e-04 rmse: 0.043989\n",
      "hs 6.000000e+00 lr 8.000000e-04 rmse: 0.041752\n",
      "hs 6.000000e+00 lr 2.000000e-03 rmse: 0.045773\n",
      "hs 6.000000e+00 lr 4.000000e-03 rmse: 0.052643\n",
      "hs 6.000000e+00 lr 6.000000e-03 rmse: 0.047907\n",
      "hs 6.000000e+00 lr 8.000000e-03 rmse: 0.052956\n",
      "hs 6.000000e+00 lr 1.000000e-02 rmse: 0.068125\n",
      "hs 7.000000e+00 lr 4.000000e-04 rmse: 0.041365\n",
      "hs 7.000000e+00 lr 6.000000e-04 rmse: 0.042718\n",
      "hs 7.000000e+00 lr 8.000000e-04 rmse: 0.042262\n",
      "hs 7.000000e+00 lr 2.000000e-03 rmse: 0.052552\n",
      "hs 7.000000e+00 lr 4.000000e-03 rmse: 0.045847\n",
      "hs 7.000000e+00 lr 6.000000e-03 rmse: 0.044717\n",
      "hs 7.000000e+00 lr 8.000000e-03 rmse: 0.042712\n",
      "hs 7.000000e+00 lr 1.000000e-02 rmse: 0.053053\n",
      "hs 8.000000e+00 lr 4.000000e-04 rmse: 0.040971\n",
      "hs 8.000000e+00 lr 6.000000e-04 rmse: 0.041879\n",
      "hs 8.000000e+00 lr 8.000000e-04 rmse: 0.043440\n",
      "hs 8.000000e+00 lr 2.000000e-03 rmse: 0.045159\n",
      "hs 8.000000e+00 lr 4.000000e-03 rmse: 0.043374\n",
      "hs 8.000000e+00 lr 6.000000e-03 rmse: 0.047380\n",
      "hs 8.000000e+00 lr 8.000000e-03 rmse: 0.067170\n",
      "hs 8.000000e+00 lr 1.000000e-02 rmse: 0.061913\n",
      "hs 9.000000e+00 lr 4.000000e-04 rmse: 0.041899\n",
      "hs 9.000000e+00 lr 6.000000e-04 rmse: 0.042351\n",
      "hs 9.000000e+00 lr 8.000000e-04 rmse: 0.042147\n",
      "hs 9.000000e+00 lr 2.000000e-03 rmse: 0.051265\n",
      "hs 9.000000e+00 lr 4.000000e-03 rmse: 0.064261\n",
      "hs 9.000000e+00 lr 6.000000e-03 rmse: 0.042552\n",
      "hs 9.000000e+00 lr 8.000000e-03 rmse: 0.058089\n",
      "hs 9.000000e+00 lr 1.000000e-02 rmse: 0.056096\n",
      "hs 1.000000e+01 lr 4.000000e-04 rmse: 0.041452\n",
      "hs 1.000000e+01 lr 6.000000e-04 rmse: 0.041834\n",
      "hs 1.000000e+01 lr 8.000000e-04 rmse: 0.045336\n",
      "hs 1.000000e+01 lr 2.000000e-03 rmse: 0.042822\n",
      "hs 1.000000e+01 lr 4.000000e-03 rmse: 0.050212\n",
      "hs 1.000000e+01 lr 6.000000e-03 rmse: 0.050412\n",
      "hs 1.000000e+01 lr 8.000000e-03 rmse: 0.046123\n",
      "hs 1.000000e+01 lr 1.000000e-02 rmse: 0.041250\n",
      "best validation accuracy achieved: 0.040971\n"
     ]
    }
   ],
   "source": [
    "# official running:\n",
    "hidden_size = [5,6,7,8,9,10]\n",
    "learning_rate = [0.01,0.008,0.006,0.004,0.002,0.0008,0.0006,0.0004]\n",
    "results = {}\n",
    "best_model = []\n",
    "\n",
    "best_val = float(1)\n",
    "iters = 0\n",
    "\n",
    "for lr in learning_rate:\n",
    "  for hs in hidden_size:\n",
    "    rmse,y_pred = model_aver(5,hs,lr,x_train,x_valid,y_train,y_valid)\n",
    "    results[(hs,lr)] = (rmse)\n",
    "    iters += 1\n",
    "    print('iters',iters)\n",
    "    #print(rmse_nonpeak,best_val)\n",
    "    print(rmse)\n",
    "    if best_val >= rmse:\n",
    "      best_val = rmse\n",
    "      best_model.append((hs,lr,rmse))\n",
    "    #print(y_pred)\n",
    "# Print out results.\n",
    "for hs, lr in sorted(results):\n",
    "    rmse = results[(hs, lr)]\n",
    "    print('hs %e lr %e rmse: %f' % (\n",
    "                hs, lr,rmse))\n",
    "    \n",
    "print('best validation accuracy achieved: %f' % best_val)\n",
    "\n",
    "\n",
    "\n"
   ]
  },
  {
   "cell_type": "code",
   "execution_count": 69,
   "metadata": {
    "colab": {
     "base_uri": "https://localhost:8080/",
     "height": 296
    },
    "executionInfo": {
     "elapsed": 6557,
     "status": "ok",
     "timestamp": 1605405847802,
     "user": {
      "displayName": "Shanni You",
      "photoUrl": "",
      "userId": "14779921795712152339"
     },
     "user_tz": 480
    },
    "id": "Qd6n1Ke_xumC",
    "outputId": "ff5eb62d-89a9-4c14-a792-a1a079001044"
   },
   "outputs": [
    {
     "data": {
      "image/png": "[encoded data removed]",
      "text/plain": [
       "<Figure size 432x288 with 2 Axes>"
      ]
     },
     "metadata": {
      "needs_background": "light",
      "tags": []
     },
     "output_type": "display_data"
    }
   ],
   "source": [
    "# Visualize the cross-validation results\n",
    "import math\n",
    "import pdb\n",
    "\n",
    "# pdb.set_trace()\n",
    "\n",
    "x_scatter = [x[0] for x in results]\n",
    "y_scatter = [math.log10(x[1]) for x in results]\n",
    "\n",
    "# plot rmse\n",
    "marker_size = 100\n",
    "\n",
    "colors = [results[x] for x in results]\n",
    "plt.figure(0)\n",
    "#plt.subplot(3, 1, 1)\n",
    "plt.tight_layout(pad=3)\n",
    "plt.scatter(x_scatter, y_scatter, marker_size, c=colors, cmap=plt.cm.coolwarm)\n",
    "plt.colorbar()\n",
    "plt.xlabel('hidden_size')\n",
    "plt.ylabel('log learning_rate')\n",
    "plt.title('rmse')\n",
    "plt.savefig('rmse_parameters0.png')\n",
    "\n",
    "plt.show()"
   ]
  },
  {
   "cell_type": "code",
   "execution_count": 70,
   "metadata": {
    "colab": {
     "base_uri": "https://localhost:8080/"
    },
    "executionInfo": {
     "elapsed": 35835,
     "status": "ok",
     "timestamp": 1605405887321,
     "user": {
      "displayName": "Shanni You",
      "photoUrl": "",
      "userId": "14779921795712152339"
     },
     "user_tz": 480
    },
    "id": "IiaDnD-Kjfiz",
    "outputId": "0e77c172-365e-4302-8581-2e43f37e4d02"
   },
   "outputs": [
    {
     "name": "stdout",
     "output_type": "stream",
     "text": [
      "8 0.0004\n",
      "(17373, 3) (17373, 3) (17373, 2) (17373, 2)\n",
      "0.04119840890629929\n"
     ]
    }
   ],
   "source": [
    "# plot the best model:\n",
    "\n",
    "hs,lr,rmse = best_model[-1]\n",
    "print(hs,lr)\n",
    "\n",
    "print(x_train.shape,x_valid.shape,y_train.shape,y_valid.shape)\n",
    "rmse,y_pred = model_aver(5,hs,lr,x_train,x_valid,y_train,y_valid)\n",
    "print(rmse)\n",
    "\n",
    "\n",
    "\n",
    "x_train[:,0] *= x_train_max_0\n",
    "x_train[:,1] *= x_train_max_1\n",
    "x_train[:,2] *= x_train_max_2\n",
    "y_train[:,0] *= y_train_max_0\n",
    "y_train[:,1] *= y_train_max_1\n",
    "\n",
    "x_valid[:,0] *= x_valid_max_0\n",
    "x_valid[:,1] *= x_valid_max_1\n",
    "x_valid[:,2] *= x_valid_max_2\n",
    "y_valid[:,0] *= y_valid_max_0\n",
    "y_valid[:,1] *= y_valid_max_1\n",
    "\n",
    "y_lon = tf.multiply(y_pred[:,0],y_valid_max_0) \n",
    "y_lat = tf.multiply(y_pred[:,1],y_valid_max_1) \n"
   ]
  },
  {
   "cell_type": "code",
   "execution_count": 71,
   "metadata": {
    "executionInfo": {
     "elapsed": 1077,
     "status": "ok",
     "timestamp": 1605405903360,
     "user": {
      "displayName": "Shanni You",
      "photoUrl": "",
      "userId": "14779921795712152339"
     },
     "user_tz": 480
    },
    "id": "7Ir04iOt-uWn"
   },
   "outputs": [],
   "source": [
    "def fill_files(file_cane,variable_name):\n",
    "    idx =0\n",
    "\n",
    "    for file in file_cane:\n",
    "        length = []\n",
    "        length.append(file.shape[0])\n",
    "\n",
    "        str =  variable_name[idx] + '.txt'\n",
    "        f = open(str,'w')\n",
    "\n",
    "        np.savetxt(f,file,fmt='%s')\n",
    "        np.savetxt(f,np.array(length),fmt = '%s')\n",
    "        f.close()\n",
    "        idx+=1"
   ]
  },
  {
   "cell_type": "code",
   "execution_count": 72,
   "metadata": {
    "executionInfo": {
     "elapsed": 1079,
     "status": "ok",
     "timestamp": 1605405907710,
     "user": {
      "displayName": "Shanni You",
      "photoUrl": "",
      "userId": "14779921795712152339"
     },
     "user_tz": 480
    },
    "id": "sdG9Ux3Y-Tem"
   },
   "outputs": [],
   "source": [
    "# read the data:\n",
    "\n",
    "variable_name = ['x_train_0','x_train_1','y_train_0','y_train_1','y_lon','y_lat']\n",
    "\n",
    "file_cane = (x_valid[:,0],x_valid[:,1],y_valid[:,0],y_valid[:,1],y_lon,y_lat)\n",
    "\n",
    "fill_files(file_cane,variable_name)\n"
   ]
  },
  {
   "cell_type": "code",
   "execution_count": 73,
   "metadata": {
    "colab": {
     "base_uri": "https://localhost:8080/"
    },
    "executionInfo": {
     "elapsed": 1148,
     "status": "ok",
     "timestamp": 1605405910520,
     "user": {
      "displayName": "Shanni You",
      "photoUrl": "",
      "userId": "14779921795712152339"
     },
     "user_tz": 480
    },
    "id": "n22y8p-sHyrD",
    "outputId": "2ac37878-7aca-42e4-fc08-439af7da22e7"
   },
   "outputs": [
    {
     "name": "stdout",
     "output_type": "stream",
     "text": [
      "[-48.875  -48.9375 -49.0625 ... 127.8125 127.75   127.6875]\n",
      "[18.125  18.125  18.125  ... -5.6875 -5.75   -5.75  ]\n",
      "[-53.     -53.1875 -53.3125 ... 124.9375 124.875  124.8125]\n",
      "[18.5625 18.5625 18.5625 ... -6.1875 -6.1875 -6.1875]\n",
      "tf.Tensor([-71.00315  -71.074196 -71.11592  ... 123.68152  123.52833  123.481575], shape=(17373,), dtype=float32)\n",
      "tf.Tensor([24.78945   24.78934   24.8485    ... -6.1295395 -6.192771  -6.1946964], shape=(17373,), dtype=float32)\n"
     ]
    }
   ],
   "source": [
    "print(x_train[:,0])\n",
    "print(x_train[:,1])\n",
    "print(y_train[:,0])\n",
    "print(y_train[:,1])\n",
    "print(y_lon)\n",
    "print(y_lat)\n"
   ]
  },
  {
   "cell_type": "code",
   "execution_count": 74,
   "metadata": {
    "colab": {
     "base_uri": "https://localhost:8080/",
     "height": 669
    },
    "executionInfo": {
     "elapsed": 3231,
     "status": "ok",
     "timestamp": 1605405914988,
     "user": {
      "displayName": "Shanni You",
      "photoUrl": "",
      "userId": "14779921795712152339"
     },
     "user_tz": 480
    },
    "id": "_YHzqDVLy9PX",
    "outputId": "35cb8f1e-18ec-4a84-c7e5-4a2c1ffe6896"
   },
   "outputs": [
    {
     "name": "stdout",
     "output_type": "stream",
     "text": [
      "hs = 8.0, lr = 0.0004\n"
     ]
    },
    {
     "data": {
      "image/png": "[encoded data removed]",
      "text/plain": [
       "<Figure size 1440x1080 with 1 Axes>"
      ]
     },
     "metadata": {
      "needs_background": "light",
      "tags": []
     },
     "output_type": "display_data"
    }
   ],
   "source": [
    "fig = plt.figure(figsize = (20,15))\n",
    "ax = fig.add_subplot(1,1,1)\n",
    "ax.scatter(x_valid[:,0],x_valid[:,1],marker = 'o', label = 'original_track_0h')\n",
    "ax.scatter(y_valid[:,0],y_valid[:,1],marker = 'o', label = 'exactly_track_24h_later')\n",
    "\n",
    "ax.scatter(y_lon,y_lat,marker='o', label = 'predict_track_24h_later')\n",
    "\n",
    "# the best for the 01 case is hs = 8.0, lr = 0.0004, rmse = 0.04119840890629929\n",
    "# the best for the 02 case is hs = 5.0, lr = 0.01, rmse = 0.03504124237768714\n",
    "print('hs = %0.1f, lr = %0.4f'%(hs,lr))\n",
    "plt.legend(loc = 0)\n",
    "plt.xlabel('lontitude')\n",
    "plt.ylabel('latitude')\n",
    "plt.savefig('best_model.png')"
   ]
  }
 ],
 "metadata": {
  "colab": {
   "authorship_tag": "ABX9TyMuSSSEYiSlXmrONMkcR3//",
   "collapsed_sections": [],
   "name": "TC_track_pre.ipynb",
   "provenance": []
  },
  "kernelspec": {
   "display_name": "Python 3",
   "language": "python",
   "name": "python3"
  },
  "language_info": {
   "codemirror_mode": {
    "name": "ipython",
    "version": 3
   },
   "file_extension": ".py",
   "mimetype": "text/x-python",
   "name": "python",
   "nbconvert_exporter": "python",
   "pygments_lexer": "ipython3",
   "version": "3.7.6"
  }
 },
 "nbformat": 4,
 "nbformat_minor": 1
}
